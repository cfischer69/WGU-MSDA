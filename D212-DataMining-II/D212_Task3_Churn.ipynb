{
 "cells": [
  {
   "cell_type": "markdown",
   "metadata": {},
   "source": [
    "# **D212 Performance Assessment 3:** Market Basket Analysis  \n",
    "\n",
    "**Student:** Chris Fischer  \n",
    "**ID:** 011933891  \n",
    "**Dataset:** Medical Market Basket \n",
    "---"
   ]
  },
  {
   "cell_type": "markdown",
   "metadata": {},
   "source": [
    "### *Research Question*  \n",
    "\n",
    "Can we increase efficiency in our hospital pharmacies by optimizing the arrangement of medications in inventory using market basket analysis?"
   ]
  },
  {
   "cell_type": "markdown",
   "metadata": {},
   "source": [
    "## Initialization\n",
    "---"
   ]
  },
  {
   "cell_type": "code",
   "execution_count": 11,
   "metadata": {
    "ExecuteTime": {
     "end_time": "2024-06-18T17:17:36.624210Z",
     "start_time": "2024-06-18T17:17:35.243487Z"
    }
   },
   "outputs": [],
   "source": [
    "#import needed libraries\n",
    "import pandas as pd\n",
    "import matplotlib.pyplot as plt\n",
    "import seaborn as sns\n",
    "\n",
    "from mlxtend.preprocessing import TransactionEncoder\n",
    "from mlxtend.frequent_patterns import apriori, association_rules\n",
    "\n",
    "#allow pd.describe to show all columns of the data frame (Chum, 2020) https://stackoverflow.com/questions/38746112/python-pandas-prevent-line-break-in-cell\n",
    "pd.options.display.max_columns = None\n",
    "pd.options.display.expand_frame_repr = False\n",
    "\n",
    "#load church_missing_data.csv\n",
    "df = pd.read_csv('medical_market_basket.csv')"
   ]
  },
  {
   "cell_type": "markdown",
   "metadata": {},
   "source": [
    "## Preparation\n",
    "---"
   ]
  },
  {
   "cell_type": "code",
   "execution_count": 12,
   "metadata": {},
   "outputs": [
    {
     "name": "stdout",
     "output_type": "stream",
     "text": [
      "<class 'pandas.core.frame.DataFrame'>\n",
      "RangeIndex: 15002 entries, 0 to 15001\n",
      "Columns: 20 entries, Presc01 to Presc20\n",
      "dtypes: object(20)\n",
      "memory usage: 2.3+ MB\n",
      "None\n",
      "      Presc01            Presc02                    Presc03       Presc04    Presc05     Presc06     Presc07      Presc08     Presc09      Presc10 Presc11   Presc12                  Presc13           Presc14  Presc15         Presc16        Presc17       Presc18       Presc19    Presc20\n",
      "0         NaN                NaN                        NaN           NaN        NaN         NaN         NaN          NaN         NaN          NaN     NaN       NaN                      NaN               NaN      NaN             NaN            NaN           NaN           NaN        NaN\n",
      "1  amlodipine  albuterol aerosol                allopurinol  pantoprazole  lorazepam  omeprazole  mometasone  fluconozole  gabapentin  pravastatin  cialis  losartan  metoprolol succinate XL  sulfamethoxazole  abilify  spironolactone  albuterol HFA  levofloxacin  promethazine  glipizide\n",
      "2         NaN                NaN                        NaN           NaN        NaN         NaN         NaN          NaN         NaN          NaN     NaN       NaN                      NaN               NaN      NaN             NaN            NaN           NaN           NaN        NaN\n",
      "3  citalopram            benicar  amphetamine salt combo xr           NaN        NaN         NaN         NaN          NaN         NaN          NaN     NaN       NaN                      NaN               NaN      NaN             NaN            NaN           NaN           NaN        NaN\n",
      "4         NaN                NaN                        NaN           NaN        NaN         NaN         NaN          NaN         NaN          NaN     NaN       NaN                      NaN               NaN      NaN             NaN            NaN           NaN           NaN        NaN\n",
      "5   enalapril                NaN                        NaN           NaN        NaN         NaN         NaN          NaN         NaN          NaN     NaN       NaN                      NaN               NaN      NaN             NaN            NaN           NaN           NaN        NaN\n",
      "<class 'pandas.core.frame.DataFrame'>\n",
      "RangeIndex: 7501 entries, 0 to 7500\n",
      "Columns: 20 entries, Presc01 to Presc20\n",
      "dtypes: object(20)\n",
      "memory usage: 1.1+ MB\n",
      "None\n",
      "      Presc01            Presc02                    Presc03       Presc04    Presc05     Presc06     Presc07      Presc08     Presc09      Presc10 Presc11   Presc12                  Presc13           Presc14  Presc15         Presc16        Presc17       Presc18       Presc19    Presc20\n",
      "0  amlodipine  albuterol aerosol                allopurinol  pantoprazole  lorazepam  omeprazole  mometasone  fluconozole  gabapentin  pravastatin  cialis  losartan  metoprolol succinate XL  sulfamethoxazole  abilify  spironolactone  albuterol HFA  levofloxacin  promethazine  glipizide\n",
      "1  citalopram            benicar  amphetamine salt combo xr           NaN        NaN         NaN         NaN          NaN         NaN          NaN     NaN       NaN                      NaN               NaN      NaN             NaN            NaN           NaN           NaN        NaN\n",
      "2   enalapril                NaN                        NaN           NaN        NaN         NaN         NaN          NaN         NaN          NaN     NaN       NaN                      NaN               NaN      NaN             NaN            NaN           NaN           NaN        NaN\n",
      "3  paroxetine        allopurinol                        NaN           NaN        NaN         NaN         NaN          NaN         NaN          NaN     NaN       NaN                      NaN               NaN      NaN             NaN            NaN           NaN           NaN        NaN\n",
      "4     abilify       atorvastatin                 folic acid      naproxen   losartan         NaN         NaN          NaN         NaN          NaN     NaN       NaN                      NaN               NaN      NaN             NaN            NaN           NaN           NaN        NaN\n",
      "5      cialis                NaN                        NaN           NaN        NaN         NaN         NaN          NaN         NaN          NaN     NaN       NaN                      NaN               NaN      NaN             NaN            NaN           NaN           NaN        NaN\n"
     ]
    }
   ],
   "source": [
    "# Examine the dataframe\n",
    "print(df.info(verbose=False))\n",
    "print(df.head(6))\n",
    "\n",
    "# Remove the blank rows\n",
    "df = df[df['Presc01'].notna()]\n",
    "df.reset_index(drop=True, inplace=True)\n",
    "\n",
    "# Verify the results\n",
    "print(df.info(verbose=False))\n",
    "print(df.head(6))"
   ]
  },
  {
   "cell_type": "code",
   "execution_count": 13,
   "metadata": {},
   "outputs": [
    {
     "data": {
      "text/html": [
       "<div>\n",
       "<style scoped>\n",
       "    .dataframe tbody tr th:only-of-type {\n",
       "        vertical-align: middle;\n",
       "    }\n",
       "\n",
       "    .dataframe tbody tr th {\n",
       "        vertical-align: top;\n",
       "    }\n",
       "\n",
       "    .dataframe thead th {\n",
       "        text-align: right;\n",
       "    }\n",
       "</style>\n",
       "<table border=\"1\" class=\"dataframe\">\n",
       "  <thead>\n",
       "    <tr style=\"text-align: right;\">\n",
       "      <th></th>\n",
       "      <th>Presc01</th>\n",
       "      <th>Presc02</th>\n",
       "      <th>Presc03</th>\n",
       "      <th>Presc04</th>\n",
       "      <th>Presc05</th>\n",
       "      <th>Presc06</th>\n",
       "      <th>Presc07</th>\n",
       "      <th>Presc08</th>\n",
       "      <th>Presc09</th>\n",
       "      <th>Presc10</th>\n",
       "      <th>Presc11</th>\n",
       "      <th>Presc12</th>\n",
       "      <th>Presc13</th>\n",
       "      <th>Presc14</th>\n",
       "      <th>Presc15</th>\n",
       "      <th>Presc16</th>\n",
       "      <th>Presc17</th>\n",
       "      <th>Presc18</th>\n",
       "      <th>Presc19</th>\n",
       "      <th>Presc20</th>\n",
       "    </tr>\n",
       "  </thead>\n",
       "  <tbody>\n",
       "    <tr>\n",
       "      <th>0</th>\n",
       "      <td>amlodipine</td>\n",
       "      <td>albuterol aerosol</td>\n",
       "      <td>allopurinol</td>\n",
       "      <td>pantoprazole</td>\n",
       "      <td>lorazepam</td>\n",
       "      <td>omeprazole</td>\n",
       "      <td>mometasone</td>\n",
       "      <td>fluconozole</td>\n",
       "      <td>gabapentin</td>\n",
       "      <td>pravastatin</td>\n",
       "      <td>cialis</td>\n",
       "      <td>losartan</td>\n",
       "      <td>metoprolol succinate XL</td>\n",
       "      <td>sulfamethoxazole</td>\n",
       "      <td>abilify</td>\n",
       "      <td>spironolactone</td>\n",
       "      <td>albuterol HFA</td>\n",
       "      <td>levofloxacin</td>\n",
       "      <td>promethazine</td>\n",
       "      <td>glipizide</td>\n",
       "    </tr>\n",
       "    <tr>\n",
       "      <th>1</th>\n",
       "      <td>citalopram</td>\n",
       "      <td>benicar</td>\n",
       "      <td>amphetamine salt combo xr</td>\n",
       "      <td>NaN</td>\n",
       "      <td>NaN</td>\n",
       "      <td>NaN</td>\n",
       "      <td>NaN</td>\n",
       "      <td>NaN</td>\n",
       "      <td>NaN</td>\n",
       "      <td>NaN</td>\n",
       "      <td>NaN</td>\n",
       "      <td>NaN</td>\n",
       "      <td>NaN</td>\n",
       "      <td>NaN</td>\n",
       "      <td>NaN</td>\n",
       "      <td>NaN</td>\n",
       "      <td>NaN</td>\n",
       "      <td>NaN</td>\n",
       "      <td>NaN</td>\n",
       "      <td>NaN</td>\n",
       "    </tr>\n",
       "    <tr>\n",
       "      <th>2</th>\n",
       "      <td>enalapril</td>\n",
       "      <td>NaN</td>\n",
       "      <td>NaN</td>\n",
       "      <td>NaN</td>\n",
       "      <td>NaN</td>\n",
       "      <td>NaN</td>\n",
       "      <td>NaN</td>\n",
       "      <td>NaN</td>\n",
       "      <td>NaN</td>\n",
       "      <td>NaN</td>\n",
       "      <td>NaN</td>\n",
       "      <td>NaN</td>\n",
       "      <td>NaN</td>\n",
       "      <td>NaN</td>\n",
       "      <td>NaN</td>\n",
       "      <td>NaN</td>\n",
       "      <td>NaN</td>\n",
       "      <td>NaN</td>\n",
       "      <td>NaN</td>\n",
       "      <td>NaN</td>\n",
       "    </tr>\n",
       "    <tr>\n",
       "      <th>3</th>\n",
       "      <td>paroxetine</td>\n",
       "      <td>allopurinol</td>\n",
       "      <td>NaN</td>\n",
       "      <td>NaN</td>\n",
       "      <td>NaN</td>\n",
       "      <td>NaN</td>\n",
       "      <td>NaN</td>\n",
       "      <td>NaN</td>\n",
       "      <td>NaN</td>\n",
       "      <td>NaN</td>\n",
       "      <td>NaN</td>\n",
       "      <td>NaN</td>\n",
       "      <td>NaN</td>\n",
       "      <td>NaN</td>\n",
       "      <td>NaN</td>\n",
       "      <td>NaN</td>\n",
       "      <td>NaN</td>\n",
       "      <td>NaN</td>\n",
       "      <td>NaN</td>\n",
       "      <td>NaN</td>\n",
       "    </tr>\n",
       "    <tr>\n",
       "      <th>4</th>\n",
       "      <td>abilify</td>\n",
       "      <td>atorvastatin</td>\n",
       "      <td>folic acid</td>\n",
       "      <td>naproxen</td>\n",
       "      <td>losartan</td>\n",
       "      <td>NaN</td>\n",
       "      <td>NaN</td>\n",
       "      <td>NaN</td>\n",
       "      <td>NaN</td>\n",
       "      <td>NaN</td>\n",
       "      <td>NaN</td>\n",
       "      <td>NaN</td>\n",
       "      <td>NaN</td>\n",
       "      <td>NaN</td>\n",
       "      <td>NaN</td>\n",
       "      <td>NaN</td>\n",
       "      <td>NaN</td>\n",
       "      <td>NaN</td>\n",
       "      <td>NaN</td>\n",
       "      <td>NaN</td>\n",
       "    </tr>\n",
       "    <tr>\n",
       "      <th>5</th>\n",
       "      <td>cialis</td>\n",
       "      <td>NaN</td>\n",
       "      <td>NaN</td>\n",
       "      <td>NaN</td>\n",
       "      <td>NaN</td>\n",
       "      <td>NaN</td>\n",
       "      <td>NaN</td>\n",
       "      <td>NaN</td>\n",
       "      <td>NaN</td>\n",
       "      <td>NaN</td>\n",
       "      <td>NaN</td>\n",
       "      <td>NaN</td>\n",
       "      <td>NaN</td>\n",
       "      <td>NaN</td>\n",
       "      <td>NaN</td>\n",
       "      <td>NaN</td>\n",
       "      <td>NaN</td>\n",
       "      <td>NaN</td>\n",
       "      <td>NaN</td>\n",
       "      <td>NaN</td>\n",
       "    </tr>\n",
       "  </tbody>\n",
       "</table>\n",
       "</div>"
      ],
      "text/plain": [
       "      Presc01            Presc02                    Presc03       Presc04    Presc05     Presc06     Presc07      Presc08     Presc09      Presc10 Presc11   Presc12                  Presc13           Presc14  Presc15         Presc16        Presc17       Presc18       Presc19    Presc20\n",
       "0  amlodipine  albuterol aerosol                allopurinol  pantoprazole  lorazepam  omeprazole  mometasone  fluconozole  gabapentin  pravastatin  cialis  losartan  metoprolol succinate XL  sulfamethoxazole  abilify  spironolactone  albuterol HFA  levofloxacin  promethazine  glipizide\n",
       "1  citalopram            benicar  amphetamine salt combo xr           NaN        NaN         NaN         NaN          NaN         NaN          NaN     NaN       NaN                      NaN               NaN      NaN             NaN            NaN           NaN           NaN        NaN\n",
       "2   enalapril                NaN                        NaN           NaN        NaN         NaN         NaN          NaN         NaN          NaN     NaN       NaN                      NaN               NaN      NaN             NaN            NaN           NaN           NaN        NaN\n",
       "3  paroxetine        allopurinol                        NaN           NaN        NaN         NaN         NaN          NaN         NaN          NaN     NaN       NaN                      NaN               NaN      NaN             NaN            NaN           NaN           NaN        NaN\n",
       "4     abilify       atorvastatin                 folic acid      naproxen   losartan         NaN         NaN          NaN         NaN          NaN     NaN       NaN                      NaN               NaN      NaN             NaN            NaN           NaN           NaN        NaN\n",
       "5      cialis                NaN                        NaN           NaN        NaN         NaN         NaN          NaN         NaN          NaN     NaN       NaN                      NaN               NaN      NaN             NaN            NaN           NaN           NaN        NaN"
      ]
     },
     "execution_count": 13,
     "metadata": {},
     "output_type": "execute_result"
    }
   ],
   "source": [
    "df.head(6)"
   ]
  },
  {
   "cell_type": "code",
   "execution_count": 14,
   "metadata": {},
   "outputs": [],
   "source": [
    "# Transform the df into a list of lists (Kamara, 2024)\n",
    "transactions = df.stack().groupby(level=0).apply(list).values.tolist()"
   ]
  },
  {
   "cell_type": "code",
   "execution_count": 15,
   "metadata": {},
   "outputs": [
    {
     "name": "stdout",
     "output_type": "stream",
     "text": [
      "<class 'pandas.core.frame.DataFrame'>\n",
      "RangeIndex: 7501 entries, 0 to 7500\n",
      "Columns: 119 entries, duloxetine to zolpidem\n",
      "dtypes: bool(119)\n",
      "memory usage: 871.8 KB\n"
     ]
    }
   ],
   "source": [
    "# Transform list of lists into one-hot encoded dataframe (Yasik, 2023)\n",
    "encoder = TransactionEncoder()\n",
    "onehot = encoder.fit_transform(transactions)\n",
    "df_onehot = pd.DataFrame(onehot, columns = encoder.columns_)\n",
    "\n",
    "# Standardize column casing\n",
    "df_onehot.columns = df_onehot.columns.str.lower()\n",
    "\n",
    "# View results\n",
    "df_onehot.info()\n",
    "df_onehot.head(3)\n",
    "\n",
    "# Export the prepared file\n",
    "df_onehot.to_csv('medical_market_basket_prepared.csv', index=False)"
   ]
  },
  {
   "cell_type": "markdown",
   "metadata": {},
   "source": [
    "## Analysis\n",
    "---"
   ]
  },
  {
   "cell_type": "code",
   "execution_count": 16,
   "metadata": {},
   "outputs": [
    {
     "data": {
      "text/html": [
       "<div>\n",
       "<style scoped>\n",
       "    .dataframe tbody tr th:only-of-type {\n",
       "        vertical-align: middle;\n",
       "    }\n",
       "\n",
       "    .dataframe tbody tr th {\n",
       "        vertical-align: top;\n",
       "    }\n",
       "\n",
       "    .dataframe thead th {\n",
       "        text-align: right;\n",
       "    }\n",
       "</style>\n",
       "<table border=\"1\" class=\"dataframe\">\n",
       "  <thead>\n",
       "    <tr style=\"text-align: right;\">\n",
       "      <th></th>\n",
       "      <th>support</th>\n",
       "      <th>itemsets</th>\n",
       "    </tr>\n",
       "  </thead>\n",
       "  <tbody>\n",
       "    <tr>\n",
       "      <th>0</th>\n",
       "      <td>0.238368</td>\n",
       "      <td>(abilify)</td>\n",
       "    </tr>\n",
       "    <tr>\n",
       "      <th>1</th>\n",
       "      <td>0.179709</td>\n",
       "      <td>(amphetamine salt combo xr)</td>\n",
       "    </tr>\n",
       "    <tr>\n",
       "      <th>2</th>\n",
       "      <td>0.174110</td>\n",
       "      <td>(carvedilol)</td>\n",
       "    </tr>\n",
       "    <tr>\n",
       "      <th>3</th>\n",
       "      <td>0.170911</td>\n",
       "      <td>(glyburide)</td>\n",
       "    </tr>\n",
       "    <tr>\n",
       "      <th>4</th>\n",
       "      <td>0.163845</td>\n",
       "      <td>(diazepam)</td>\n",
       "    </tr>\n",
       "    <tr>\n",
       "      <th>5</th>\n",
       "      <td>0.132116</td>\n",
       "      <td>(losartan)</td>\n",
       "    </tr>\n",
       "    <tr>\n",
       "      <th>6</th>\n",
       "      <td>0.129583</td>\n",
       "      <td>(atorvastatin)</td>\n",
       "    </tr>\n",
       "    <tr>\n",
       "      <th>7</th>\n",
       "      <td>0.098254</td>\n",
       "      <td>(lisinopril)</td>\n",
       "    </tr>\n",
       "    <tr>\n",
       "      <th>8</th>\n",
       "      <td>0.095321</td>\n",
       "      <td>(metoprolol)</td>\n",
       "    </tr>\n",
       "    <tr>\n",
       "      <th>9</th>\n",
       "      <td>0.095054</td>\n",
       "      <td>(doxycycline hyclate)</td>\n",
       "    </tr>\n",
       "  </tbody>\n",
       "</table>\n",
       "</div>"
      ],
      "text/plain": [
       "    support                     itemsets\n",
       "0  0.238368                    (abilify)\n",
       "1  0.179709  (amphetamine salt combo xr)\n",
       "2  0.174110                 (carvedilol)\n",
       "3  0.170911                  (glyburide)\n",
       "4  0.163845                   (diazepam)\n",
       "5  0.132116                   (losartan)\n",
       "6  0.129583               (atorvastatin)\n",
       "7  0.098254                 (lisinopril)\n",
       "8  0.095321                 (metoprolol)\n",
       "9  0.095054        (doxycycline hyclate)"
      ]
     },
     "execution_count": 16,
     "metadata": {},
     "output_type": "execute_result"
    }
   ],
   "source": [
    "# Use apriori to eliminate infrequent items\n",
    "support = 0.02\n",
    "length = 2\n",
    "frequent_items = apriori(df_onehot, min_support=support, max_len=length, use_colnames=True)\n",
    "frequent_items.sort_values('support', ascending=False).reset_index(drop=True).head(10)"
   ]
  },
  {
   "cell_type": "code",
   "execution_count": 17,
   "metadata": {},
   "outputs": [
    {
     "name": "stdout",
     "output_type": "stream",
     "text": [
      "Number of rules selected: 94\n",
      "\n"
     ]
    }
   ],
   "source": [
    "# Create association rules\n",
    "metric = 'lift'\n",
    "treshold = 1.0\n",
    "\n",
    "rules = association_rules(frequent_items, metric=metric, \n",
    "                          min_threshold=treshold)[['antecedents','consequents','support','lift','confidence']]\n",
    "\n",
    "# Convert the frozensets into strings (Herfert, 2019)\n",
    "rules['antecedents'] = rules['antecedents'].apply(lambda a: ','.join(list(a)))\n",
    "rules['consequents'] = rules['consequents'].apply(lambda a: ','.join(list(a)))\n",
    "\n",
    "rules = rules.sort_values('confidence',ascending=False).reset_index(drop=True).round(3)\n",
    "print(f'Number of rules selected: {rules.shape[0]}\\n')\n",
    "\n",
    "# Export the rules file\n",
    "rules.to_csv('medical_market_basket_rules.csv', index=False)"
   ]
  },
  {
   "cell_type": "code",
   "execution_count": 18,
   "metadata": {},
   "outputs": [
    {
     "name": "stdout",
     "output_type": "stream",
     "text": [
      "Top rules sorted by confidence descending\n"
     ]
    },
    {
     "data": {
      "text/html": [
       "<div>\n",
       "<style scoped>\n",
       "    .dataframe tbody tr th:only-of-type {\n",
       "        vertical-align: middle;\n",
       "    }\n",
       "\n",
       "    .dataframe tbody tr th {\n",
       "        vertical-align: top;\n",
       "    }\n",
       "\n",
       "    .dataframe thead th {\n",
       "        text-align: right;\n",
       "    }\n",
       "</style>\n",
       "<table border=\"1\" class=\"dataframe\">\n",
       "  <thead>\n",
       "    <tr style=\"text-align: right;\">\n",
       "      <th></th>\n",
       "      <th>antecedents</th>\n",
       "      <th>consequents</th>\n",
       "      <th>support</th>\n",
       "      <th>lift</th>\n",
       "      <th>confidence</th>\n",
       "    </tr>\n",
       "  </thead>\n",
       "  <tbody>\n",
       "    <tr>\n",
       "      <th>0</th>\n",
       "      <td>metformin</td>\n",
       "      <td>abilify</td>\n",
       "      <td>0.023</td>\n",
       "      <td>1.915</td>\n",
       "      <td>0.456</td>\n",
       "    </tr>\n",
       "    <tr>\n",
       "      <th>1</th>\n",
       "      <td>glipizide</td>\n",
       "      <td>abilify</td>\n",
       "      <td>0.028</td>\n",
       "      <td>1.758</td>\n",
       "      <td>0.419</td>\n",
       "    </tr>\n",
       "    <tr>\n",
       "      <th>2</th>\n",
       "      <td>lisinopril</td>\n",
       "      <td>abilify</td>\n",
       "      <td>0.041</td>\n",
       "      <td>1.748</td>\n",
       "      <td>0.417</td>\n",
       "    </tr>\n",
       "  </tbody>\n",
       "</table>\n",
       "</div>"
      ],
      "text/plain": [
       "  antecedents consequents  support   lift  confidence\n",
       "0   metformin     abilify    0.023  1.915       0.456\n",
       "1   glipizide     abilify    0.028  1.758       0.419\n",
       "2  lisinopril     abilify    0.041  1.748       0.417"
      ]
     },
     "execution_count": 18,
     "metadata": {},
     "output_type": "execute_result"
    }
   ],
   "source": [
    "print('Top rules sorted by confidence descending')\n",
    "rules.head(3)"
   ]
  },
  {
   "cell_type": "markdown",
   "metadata": {},
   "source": [
    "## Data Summary and Implications\n",
    "---"
   ]
  },
  {
   "cell_type": "code",
   "execution_count": 19,
   "metadata": {},
   "outputs": [
    {
     "data": {
      "image/png": "[encoded data removed]",
      "text/plain": [
       "<Figure size 1000x500 with 1 Axes>"
      ]
     },
     "metadata": {},
     "output_type": "display_data"
    }
   ],
   "source": [
    "# Identify the most frequently prescribed drugs (Kamara, 2024)\n",
    "most_frequent = df.apply(pd.Series.value_counts,axis=0).transpose().sum().sort_values(ascending=False)\n",
    "\n",
    "# Transform and plot\n",
    "most_frequent = most_frequent.to_frame(name='Frequency')\n",
    "most_frequent['DrugName'] = most_frequent.index\n",
    "most_frequent.reset_index(drop=True, inplace=True)\n",
    "plt.figure(figsize=(10, 5))\n",
    "sns.barplot(x=\"Frequency\", y=\"DrugName\", data=most_frequent.head(10), hue=\"Frequency\", palette=\"viridis\")\n",
    "plt.title(\"Top 10 Most Frequently Prescribed Drugs\")\n",
    "plt.xlabel(\"Frequency\")\n",
    "plt.ylabel(\"Drug\")\n",
    "plt.show()\n"
   ]
  },
  {
   "cell_type": "code",
   "execution_count": 20,
   "metadata": {},
   "outputs": [
    {
     "data": {
      "image/png": "[encoded data removed]",
      "text/plain": [
       "<Figure size 1000x500 with 1 Axes>"
      ]
     },
     "metadata": {},
     "output_type": "display_data"
    }
   ],
   "source": [
    "# See which drugs occur most frequently in the retained rules\n",
    "antecedents = rules.groupby(\"antecedents\").size().reset_index(name=\"Freq\").sort_values(\"Freq\", ascending=False).rename(columns={\"antecedents\": \"drugName\"}).set_index('drugName')\n",
    "consequents = rules.groupby(\"consequents\").size().reset_index(name=\"Freq\").sort_values(\"Freq\", ascending=False).rename(columns={\"consequents\": \"drugName\"}).set_index('drugName')\n",
    "most_frequent = antecedents.add(consequents, fill_value = 0).sort_values(\"Freq\", ascending=False).head(10)\n",
    "plt.figure(figsize=(10, 5))\n",
    "sns.barplot(x=\"Freq\", y=\"drugName\", data=most_frequent, hue=\"Freq\", palette=\"colorblind\")\n",
    "plt.title(\"Top 10 Most Frequently Associated Drugs\")\n",
    "plt.xlabel(\"Frequency\")\n",
    "plt.ylabel(\"Drug\")\n",
    "plt.show()"
   ]
  }
 ],
 "metadata": {
  "kernelspec": {
   "display_name": "Python 3",
   "language": "python",
   "name": "python3"
  },
  "language_info": {
   "codemirror_mode": {
    "name": "ipython",
    "version": 3
   },
   "file_extension": ".py",
   "mimetype": "text/x-python",
   "name": "python",
   "nbconvert_exporter": "python",
   "pygments_lexer": "ipython3",
   "version": "3.11.9"
  }
 },
 "nbformat": 4,
 "nbformat_minor": 2
}
